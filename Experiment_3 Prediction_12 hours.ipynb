{
 "cells": [
  {
   "cell_type": "code",
   "execution_count": 1,
   "metadata": {},
   "outputs": [
    {
     "name": "stderr",
     "output_type": "stream",
     "text": [
      "Using TensorFlow backend.\n"
     ]
    }
   ],
   "source": [
    "#Installing all the necessary packages in order to undergo the prediction\n",
    "import numpy as np\n",
    "from math import sqrt\n",
    "import pandas as pd\n",
    "from pandas import Series , concat\n",
    "from pandas import DataFrame , datetime\n",
    "from pandas import read_csv\n",
    "import pandas as pd\n",
    "from keras.models import Sequential"
   ]
  },
  {
   "cell_type": "code",
   "execution_count": 2,
   "metadata": {},
   "outputs": [
    {
     "data": {
      "text/html": [
       "<div>\n",
       "<style scoped>\n",
       "    .dataframe tbody tr th:only-of-type {\n",
       "        vertical-align: middle;\n",
       "    }\n",
       "\n",
       "    .dataframe tbody tr th {\n",
       "        vertical-align: top;\n",
       "    }\n",
       "\n",
       "    .dataframe thead th {\n",
       "        text-align: right;\n",
       "    }\n",
       "</style>\n",
       "<table border=\"1\" class=\"dataframe\">\n",
       "  <thead>\n",
       "    <tr style=\"text-align: right;\">\n",
       "      <th></th>\n",
       "      <th>air temp degree</th>\n",
       "      <th>Air density</th>\n",
       "      <th>wind speed at 100m (m/s)</th>\n",
       "      <th>wind direction at 100m (deg)</th>\n",
       "      <th>Power (KW)</th>\n",
       "    </tr>\n",
       "    <tr>\n",
       "      <th>DATETIME</th>\n",
       "      <th></th>\n",
       "      <th></th>\n",
       "      <th></th>\n",
       "      <th></th>\n",
       "      <th></th>\n",
       "    </tr>\n",
       "  </thead>\n",
       "  <tbody>\n",
       "    <tr>\n",
       "      <th>1/1/2007 0:00</th>\n",
       "      <td>2.430</td>\n",
       "      <td>1.223</td>\n",
       "      <td>11.673</td>\n",
       "      <td>244.189</td>\n",
       "      <td>15701</td>\n",
       "    </tr>\n",
       "    <tr>\n",
       "      <th>1/1/2007 0:05</th>\n",
       "      <td>2.387</td>\n",
       "      <td>1.224</td>\n",
       "      <td>11.395</td>\n",
       "      <td>244.755</td>\n",
       "      <td>15498</td>\n",
       "    </tr>\n",
       "    <tr>\n",
       "      <th>1/1/2007 0:10</th>\n",
       "      <td>2.336</td>\n",
       "      <td>1.224</td>\n",
       "      <td>11.468</td>\n",
       "      <td>245.644</td>\n",
       "      <td>15568</td>\n",
       "    </tr>\n",
       "    <tr>\n",
       "      <th>1/1/2007 0:15</th>\n",
       "      <td>2.278</td>\n",
       "      <td>1.224</td>\n",
       "      <td>11.636</td>\n",
       "      <td>246.863</td>\n",
       "      <td>15691</td>\n",
       "    </tr>\n",
       "    <tr>\n",
       "      <th>1/1/2007 0:20</th>\n",
       "      <td>2.192</td>\n",
       "      <td>1.225</td>\n",
       "      <td>11.727</td>\n",
       "      <td>247.287</td>\n",
       "      <td>15719</td>\n",
       "    </tr>\n",
       "  </tbody>\n",
       "</table>\n",
       "</div>"
      ],
      "text/plain": [
       "               air temp degree  Air density  wind speed at 100m (m/s)  \\\n",
       "DATETIME                                                                \n",
       "1/1/2007 0:00            2.430        1.223                    11.673   \n",
       "1/1/2007 0:05            2.387        1.224                    11.395   \n",
       "1/1/2007 0:10            2.336        1.224                    11.468   \n",
       "1/1/2007 0:15            2.278        1.224                    11.636   \n",
       "1/1/2007 0:20            2.192        1.225                    11.727   \n",
       "\n",
       "               wind direction at 100m (deg)  Power (KW)  \n",
       "DATETIME                                                 \n",
       "1/1/2007 0:00                       244.189       15701  \n",
       "1/1/2007 0:05                       244.755       15498  \n",
       "1/1/2007 0:10                       245.644       15568  \n",
       "1/1/2007 0:15                       246.863       15691  \n",
       "1/1/2007 0:20                       247.287       15719  "
      ]
     },
     "execution_count": 2,
     "metadata": {},
     "output_type": "execute_result"
    }
   ],
   "source": [
    "#Loading the data set\n",
    "dataset = pd.read_csv('C:/Users/gurun/Desktop/ProjectCPS/EXP3/DPPdataset.csv',index_col=\"DATETIME\")\n",
    "dataset.head()"
   ]
  },
  {
   "cell_type": "code",
   "execution_count": 3,
   "metadata": {},
   "outputs": [],
   "source": [
    "# Framing the the sequence as a supervised learning problem\n",
    "def timeseries_to_supervised(data, lag=1):\n",
    "    df_set = DataFrame(data)\n",
    "    columns = [df_set.shift(i) for i in range(1, lag+1)]\n",
    "    columns.append(df_set)\n",
    "    df_set = concat(columns, axis=1)\n",
    "    df_set.fillna(0, inplace=True)\n",
    "    return df_set"
   ]
  },
  {
   "cell_type": "code",
   "execution_count": 4,
   "metadata": {},
   "outputs": [],
   "source": [
    "# creating a differenced series\n",
    "def difference(Data_Set, interval=1):\n",
    "    diff = list()\n",
    "    for i in range(interval, len(Data_Set)):\n",
    "        value = Data_Set[i] - Data_Set[i - interval]\n",
    "        diff.append(value)\n",
    "    return Series(diff)\n",
    "# inverting the differenced value\n",
    "def inverse_difference(history, Y_pred, interval=1):\n",
    "    return Y_pred + history[-interval]"
   ]
  },
  {
   "cell_type": "code",
   "execution_count": 5,
   "metadata": {},
   "outputs": [
    {
     "data": {
      "text/html": [
       "<div>\n",
       "<style scoped>\n",
       "    .dataframe tbody tr th:only-of-type {\n",
       "        vertical-align: middle;\n",
       "    }\n",
       "\n",
       "    .dataframe tbody tr th {\n",
       "        vertical-align: top;\n",
       "    }\n",
       "\n",
       "    .dataframe thead th {\n",
       "        text-align: right;\n",
       "    }\n",
       "</style>\n",
       "<table border=\"1\" class=\"dataframe\">\n",
       "  <thead>\n",
       "    <tr style=\"text-align: right;\">\n",
       "      <th></th>\n",
       "      <th>Power (KW)</th>\n",
       "    </tr>\n",
       "    <tr>\n",
       "      <th>DATETIME</th>\n",
       "      <th></th>\n",
       "    </tr>\n",
       "  </thead>\n",
       "  <tbody>\n",
       "    <tr>\n",
       "      <th>12/31/2007 22:20</th>\n",
       "      <td>16000</td>\n",
       "    </tr>\n",
       "    <tr>\n",
       "      <th>12/31/2007 22:25</th>\n",
       "      <td>16000</td>\n",
       "    </tr>\n",
       "    <tr>\n",
       "      <th>12/31/2007 22:30</th>\n",
       "      <td>16000</td>\n",
       "    </tr>\n",
       "    <tr>\n",
       "      <th>12/31/2007 22:35</th>\n",
       "      <td>16000</td>\n",
       "    </tr>\n",
       "    <tr>\n",
       "      <th>12/31/2007 22:40</th>\n",
       "      <td>16000</td>\n",
       "    </tr>\n",
       "  </tbody>\n",
       "</table>\n",
       "</div>"
      ],
      "text/plain": [
       "                  Power (KW)\n",
       "DATETIME                    \n",
       "12/31/2007 22:20       16000\n",
       "12/31/2007 22:25       16000\n",
       "12/31/2007 22:30       16000\n",
       "12/31/2007 22:35       16000\n",
       "12/31/2007 22:40       16000"
      ]
     },
     "execution_count": 5,
     "metadata": {},
     "output_type": "execute_result"
    }
   ],
   "source": [
    "# Dropping all the features which we will not be using\n",
    "del dataset['air temp degree']\n",
    "del dataset['Air density']\n",
    "del dataset['wind speed at 100m (m/s)']\n",
    "del dataset['wind direction at 100m (deg)']\n",
    "for i in range(0,15):\n",
    "  dataset = dataset[:-1]\n",
    "dataset.tail()"
   ]
  },
  {
   "cell_type": "code",
   "execution_count": 6,
   "metadata": {},
   "outputs": [],
   "source": [
    "# Performing scaling on the train data to [-1, 1]\n",
    "from sklearn.preprocessing import MinMaxScaler\n",
    "def scale(Xtrain, Xtest):\n",
    "    scaler = MinMaxScaler(feature_range=(-1, 1))\n",
    "    scaler = scaler.fit(Xtrain)\n",
    "    Xtrain = Xtrain.reshape(Xtrain.shape[0], Xtrain.shape[1])\n",
    "    Xtrain_scaled = scaler.transform(Xtrain)\n",
    "    \n",
    "    \n",
    "# Performing scaling on the test data to [-1, 1]\n",
    "    Xtest = Xtest.reshape(Xtest.shape[0], Xtest.shape[1])\n",
    "    Xtest_scaled = scaler.transform(Xtest)\n",
    "    return scaler, Xtrain_scaled, Xtest_scaled"
   ]
  },
  {
   "cell_type": "code",
   "execution_count": 7,
   "metadata": {},
   "outputs": [],
   "source": [
    "# Performing inverse scaling for a forecasted value\n",
    "def invert_scale(scaler, X, value):\n",
    "    np_rowval = [x for x in X] + [value]\n",
    "    array = np.array(np_rowval)\n",
    "    array = array.reshape(1, len(array))\n",
    "    inverted = scaler.inverse_transform(array)\n",
    "    return inverted[0, -1]"
   ]
  },
  {
   "cell_type": "code",
   "execution_count": 8,
   "metadata": {},
   "outputs": [],
   "source": [
    "# Hardcoding all variables\n",
    "Lag_duration =24\n",
    "Predict_Value_Size= 144\n",
    "Epoch_Size = 6\n",
    "Batch_Size = 1\n",
    "Neurons_Size = 10"
   ]
  },
  {
   "cell_type": "code",
   "execution_count": 9,
   "metadata": {},
   "outputs": [],
   "source": [
    "# fitting the LSTM model into a Training Data set\n",
    "from keras.layers import Dense, LSTM\n",
    "from keras.models import Sequential\n",
    "def fit_lstm(Xtrain, batch_size, nb_epoch, neurons):\n",
    "    X, y = Xtrain[:, 0:-1], Xtrain[:, -1]\n",
    "    X = X.reshape(X.shape[0], 1, X.shape[1])\n",
    "    \n",
    "    model = Sequential()\n",
    "    model.add(LSTM(neurons, batch_input_shape=(Batch_Size, X.shape[1], X.shape[2]), stateful=True))\n",
    "    model.add(Dense(1))\n",
    "    model.compile(loss='mean_squared_error', optimizer='adam')\n",
    "    for i in range(nb_epoch):\n",
    "        model.fit(X, y, epochs=1, batch_size=batch_size, verbose=1, shuffle=False)\n",
    "        model.reset_states()\n",
    "    return model"
   ]
  },
  {
   "cell_type": "code",
   "execution_count": 10,
   "metadata": {},
   "outputs": [],
   "source": [
    "# Variables Required for performing forwad walk validation on the test data set\n",
    "Prediction = list()\n",
    "Expectation = list()\n",
    "Pred_plot = list()\n",
    "Expectation_plot = list()\n",
    "Test_Prediction = list()"
   ]
  },
  {
   "cell_type": "code",
   "execution_count": 11,
   "metadata": {},
   "outputs": [],
   "source": [
    "# making an one-step forecast\n",
    "def forecast_lstm(model, batch_size, X):\n",
    "    X = X.reshape(1, 1, len(X))\n",
    "    Y_pred = model.predict(X, batch_size=1)\n",
    "    return Y_pred[0,0]"
   ]
  },
  {
   "cell_type": "code",
   "execution_count": 12,
   "metadata": {},
   "outputs": [],
   "source": [
    "# transforming the data into a stationary data set\n",
    "Raw_val = dataset.values\n",
    "Different_val = difference(Raw_val, 1)\n",
    "# transforming the data into a  supervised learning\n",
    "supervised = timeseries_to_supervised(Different_val, Lag_duration)\n",
    "supervised_values = supervised.values"
   ]
  },
  {
   "cell_type": "code",
   "execution_count": 13,
   "metadata": {},
   "outputs": [
    {
     "name": "stderr",
     "output_type": "stream",
     "text": [
      "C:\\Users\\gurun\\AppData\\Local\\conda\\conda\\envs\\tensorflow-sessions\\lib\\site-packages\\sklearn\\utils\\validation.py:595: DataConversionWarning: Data with input dtype object was converted to float64 by MinMaxScaler.\n",
      "  warnings.warn(msg, DataConversionWarning)\n"
     ]
    }
   ],
   "source": [
    "# splitting the dataset into train-sets and test-sets\n",
    "Xtrain, Xtest = supervised_values[0:-Predict_Value_Size], supervised_values[-Predict_Value_Size:]\n",
    "# perform scaling on the data\n",
    "scaler, Xtrain_scaled, Xtest_scaled = scale(Xtrain, Xtest)"
   ]
  },
  {
   "cell_type": "code",
   "execution_count": 14,
   "metadata": {},
   "outputs": [
    {
     "name": "stdout",
     "output_type": "stream",
     "text": [
      "Epoch 1/1\n",
      "104960/104960 [==============================] - 108s 1ms/step - loss: 0.0011\n",
      "Epoch 1/1\n",
      "104960/104960 [==============================] - 116s 1ms/step - loss: 0.0011\n",
      "Epoch 1/1\n",
      "104960/104960 [==============================] - 113s 1ms/step - loss: 0.0010\n",
      "Epoch 1/1\n",
      "104960/104960 [==============================] - 121s 1ms/step - loss: 0.0010\n",
      "Epoch 1/1\n",
      "104960/104960 [==============================] - 118s 1ms/step - loss: 0.0010\n",
      "Epoch 1/1\n",
      "104960/104960 [==============================] - 119s 1ms/step - loss: 9.8867e-04\n"
     ]
    }
   ],
   "source": [
    "# fitting the LSTM model \n",
    "lstm_model = fit_lstm(Xtrain_scaled, Batch_Size, Epoch_Size, Neurons_Size)"
   ]
  },
  {
   "cell_type": "code",
   "execution_count": 15,
   "metadata": {},
   "outputs": [
    {
     "name": "stdout",
     "output_type": "stream",
     "text": [
      "Every 5th Minute Entry=1, Predicted_Value=-74.931381, Expected_Value=0.000000\n",
      "Every 5th Minute Entry=2, Predicted_Value=-77.040941, Expected_Value=0.000000\n",
      "Every 5th Minute Entry=3, Predicted_Value=-49.723550, Expected_Value=0.000000\n",
      "Every 5th Minute Entry=4, Predicted_Value=-28.694533, Expected_Value=0.000000\n",
      "Every 5th Minute Entry=5, Predicted_Value=-15.296220, Expected_Value=0.000000\n",
      "Every 5th Minute Entry=6, Predicted_Value=-11.020451, Expected_Value=0.000000\n",
      "Every 5th Minute Entry=7, Predicted_Value=-15.314882, Expected_Value=0.000000\n",
      "Every 5th Minute Entry=8, Predicted_Value=-14.460744, Expected_Value=0.000000\n",
      "Every 5th Minute Entry=9, Predicted_Value=-11.883865, Expected_Value=0.000000\n",
      "Every 5th Minute Entry=10, Predicted_Value=-7.498223, Expected_Value=0.000000\n",
      "Every 5th Minute Entry=11, Predicted_Value=-14.175074, Expected_Value=0.000000\n",
      "Every 5th Minute Entry=12, Predicted_Value=-20.898745, Expected_Value=0.000000\n",
      "Every 5th Minute Entry=13, Predicted_Value=-29.314570, Expected_Value=0.000000\n",
      "Every 5th Minute Entry=14, Predicted_Value=-32.308745, Expected_Value=0.000000\n",
      "Every 5th Minute Entry=15, Predicted_Value=-32.081711, Expected_Value=0.000000\n",
      "Every 5th Minute Entry=16, Predicted_Value=-31.915522, Expected_Value=0.000000\n",
      "Every 5th Minute Entry=17, Predicted_Value=-31.603681, Expected_Value=0.000000\n",
      "Every 5th Minute Entry=18, Predicted_Value=-31.652489, Expected_Value=0.000000\n",
      "Every 5th Minute Entry=19, Predicted_Value=-30.611512, Expected_Value=0.000000\n",
      "Every 5th Minute Entry=20, Predicted_Value=-27.921337, Expected_Value=0.000000\n",
      "Every 5th Minute Entry=21, Predicted_Value=-24.179253, Expected_Value=0.000000\n",
      "Every 5th Minute Entry=22, Predicted_Value=-20.976043, Expected_Value=0.000000\n",
      "Every 5th Minute Entry=23, Predicted_Value=-17.605318, Expected_Value=0.000000\n",
      "Every 5th Minute Entry=24, Predicted_Value=-15.328353, Expected_Value=0.000000\n",
      "Every 5th Minute Entry=25, Predicted_Value=-10.212361, Expected_Value=0.000000\n",
      "Every 5th Minute Entry=26, Predicted_Value=-10.181331, Expected_Value=0.000000\n",
      "Every 5th Minute Entry=27, Predicted_Value=-14.785062, Expected_Value=0.000000\n",
      "Every 5th Minute Entry=28, Predicted_Value=-20.011701, Expected_Value=0.000000\n",
      "Every 5th Minute Entry=29, Predicted_Value=-23.981813, Expected_Value=0.000000\n",
      "Every 5th Minute Entry=30, Predicted_Value=-26.110366, Expected_Value=0.000000\n",
      "Every 5th Minute Entry=31, Predicted_Value=-26.239674, Expected_Value=0.000000\n",
      "Every 5th Minute Entry=32, Predicted_Value=-25.651219, Expected_Value=0.000000\n",
      "Every 5th Minute Entry=33, Predicted_Value=-24.513509, Expected_Value=0.000000\n",
      "Every 5th Minute Entry=34, Predicted_Value=-23.187415, Expected_Value=0.000000\n",
      "Every 5th Minute Entry=35, Predicted_Value=-21.086137, Expected_Value=0.000000\n",
      "Every 5th Minute Entry=36, Predicted_Value=-19.034329, Expected_Value=0.000000\n",
      "Every 5th Minute Entry=37, Predicted_Value=-17.485949, Expected_Value=0.000000\n",
      "Every 5th Minute Entry=38, Predicted_Value=-17.070861, Expected_Value=0.000000\n",
      "Every 5th Minute Entry=39, Predicted_Value=-17.701057, Expected_Value=0.000000\n",
      "Every 5th Minute Entry=40, Predicted_Value=-18.790289, Expected_Value=0.000000\n",
      "Every 5th Minute Entry=41, Predicted_Value=-20.142444, Expected_Value=0.000000\n",
      "Every 5th Minute Entry=42, Predicted_Value=-21.637489, Expected_Value=0.000000\n",
      "Every 5th Minute Entry=43, Predicted_Value=-23.306453, Expected_Value=0.000000\n",
      "Every 5th Minute Entry=44, Predicted_Value=-25.096443, Expected_Value=0.000000\n",
      "Every 5th Minute Entry=45, Predicted_Value=-26.789259, Expected_Value=0.000000\n",
      "Every 5th Minute Entry=46, Predicted_Value=-28.007137, Expected_Value=0.000000\n",
      "Every 5th Minute Entry=47, Predicted_Value=-28.742016, Expected_Value=0.000000\n",
      "Every 5th Minute Entry=48, Predicted_Value=-28.836098, Expected_Value=0.000000\n",
      "Every 5th Minute Entry=49, Predicted_Value=-28.525141, Expected_Value=0.000000\n",
      "Every 5th Minute Entry=50, Predicted_Value=-27.540260, Expected_Value=0.000000\n",
      "Every 5th Minute Entry=51, Predicted_Value=-25.995414, Expected_Value=0.000000\n",
      "Every 5th Minute Entry=52, Predicted_Value=-24.405514, Expected_Value=0.000000\n",
      "Every 5th Minute Entry=53, Predicted_Value=-23.190507, Expected_Value=0.000000\n",
      "Every 5th Minute Entry=54, Predicted_Value=-22.519343, Expected_Value=0.000000\n",
      "Every 5th Minute Entry=55, Predicted_Value=-22.396992, Expected_Value=0.000000\n",
      "Every 5th Minute Entry=56, Predicted_Value=-22.618726, Expected_Value=0.000000\n",
      "Every 5th Minute Entry=57, Predicted_Value=-23.000024, Expected_Value=0.000000\n",
      "Every 5th Minute Entry=58, Predicted_Value=-23.357690, Expected_Value=2.000000\n",
      "Every 5th Minute Entry=59, Predicted_Value=-21.604270, Expected_Value=7.000000\n",
      "Every 5th Minute Entry=60, Predicted_Value=-16.615864, Expected_Value=15.000000\n",
      "Every 5th Minute Entry=61, Predicted_Value=-8.312306, Expected_Value=27.000000\n",
      "Every 5th Minute Entry=62, Predicted_Value=4.329374, Expected_Value=46.000000\n",
      "Every 5th Minute Entry=63, Predicted_Value=24.238172, Expected_Value=64.000000\n",
      "Every 5th Minute Entry=64, Predicted_Value=43.262144, Expected_Value=82.000000\n",
      "Every 5th Minute Entry=65, Predicted_Value=62.272644, Expected_Value=197.000000\n",
      "Every 5th Minute Entry=66, Predicted_Value=178.173381, Expected_Value=331.000000\n",
      "Every 5th Minute Entry=67, Predicted_Value=312.898653, Expected_Value=433.000000\n",
      "Every 5th Minute Entry=68, Predicted_Value=415.392363, Expected_Value=515.000000\n",
      "Every 5th Minute Entry=69, Predicted_Value=497.605263, Expected_Value=547.000000\n",
      "Every 5th Minute Entry=70, Predicted_Value=529.492739, Expected_Value=498.000000\n",
      "Every 5th Minute Entry=71, Predicted_Value=480.071689, Expected_Value=451.000000\n",
      "Every 5th Minute Entry=72, Predicted_Value=432.381863, Expected_Value=535.000000\n",
      "Every 5th Minute Entry=73, Predicted_Value=515.507518, Expected_Value=749.000000\n",
      "Every 5th Minute Entry=74, Predicted_Value=728.523741, Expected_Value=1004.000000\n",
      "Every 5th Minute Entry=75, Predicted_Value=982.519425, Expected_Value=1227.000000\n",
      "Every 5th Minute Entry=76, Predicted_Value=1204.597928, Expected_Value=1435.000000\n",
      "Every 5th Minute Entry=77, Predicted_Value=1411.837320, Expected_Value=1627.000000\n",
      "Every 5th Minute Entry=78, Predicted_Value=1603.261785, Expected_Value=1804.000000\n",
      "Every 5th Minute Entry=79, Predicted_Value=1779.849347, Expected_Value=1958.000000\n",
      "Every 5th Minute Entry=80, Predicted_Value=1933.540930, Expected_Value=2146.000000\n",
      "Every 5th Minute Entry=81, Predicted_Value=2121.272818, Expected_Value=2395.000000\n",
      "Every 5th Minute Entry=82, Predicted_Value=2369.991786, Expected_Value=2687.000000\n",
      "Every 5th Minute Entry=83, Predicted_Value=2661.669787, Expected_Value=3088.000000\n",
      "Every 5th Minute Entry=84, Predicted_Value=3062.300636, Expected_Value=3532.000000\n",
      "Every 5th Minute Entry=85, Predicted_Value=3505.899351, Expected_Value=3987.000000\n",
      "Every 5th Minute Entry=86, Predicted_Value=3960.501158, Expected_Value=4558.000000\n",
      "Every 5th Minute Entry=87, Predicted_Value=4531.156522, Expected_Value=5230.000000\n",
      "Every 5th Minute Entry=88, Predicted_Value=5202.922862, Expected_Value=15706.000000\n",
      "Every 5th Minute Entry=89, Predicted_Value=15678.847442, Expected_Value=15667.000000\n",
      "Every 5th Minute Entry=90, Predicted_Value=15639.961290, Expected_Value=15614.000000\n",
      "Every 5th Minute Entry=91, Predicted_Value=15587.276554, Expected_Value=15635.000000\n",
      "Every 5th Minute Entry=92, Predicted_Value=15608.789478, Expected_Value=15720.000000\n",
      "Every 5th Minute Entry=93, Predicted_Value=15694.481181, Expected_Value=15822.000000\n",
      "Every 5th Minute Entry=94, Predicted_Value=15797.320963, Expected_Value=15959.000000\n",
      "Every 5th Minute Entry=95, Predicted_Value=15935.263883, Expected_Value=15944.000000\n",
      "Every 5th Minute Entry=96, Predicted_Value=15921.258150, Expected_Value=15878.000000\n",
      "Every 5th Minute Entry=97, Predicted_Value=15856.248663, Expected_Value=15840.000000\n",
      "Every 5th Minute Entry=98, Predicted_Value=15819.184957, Expected_Value=15866.000000\n",
      "Every 5th Minute Entry=99, Predicted_Value=15846.024739, Expected_Value=15910.000000\n",
      "Every 5th Minute Entry=100, Predicted_Value=15890.737312, Expected_Value=15926.000000\n",
      "Every 5th Minute Entry=101, Predicted_Value=15907.305781, Expected_Value=15937.000000\n",
      "Every 5th Minute Entry=102, Predicted_Value=15918.728377, Expected_Value=15943.000000\n",
      "Every 5th Minute Entry=103, Predicted_Value=15925.015041, Expected_Value=15973.000000\n",
      "Every 5th Minute Entry=104, Predicted_Value=15955.182114, Expected_Value=16000.000000\n",
      "Every 5th Minute Entry=105, Predicted_Value=15982.245829, Expected_Value=16000.000000\n",
      "Every 5th Minute Entry=106, Predicted_Value=15982.216787, Expected_Value=15990.000000\n",
      "Every 5th Minute Entry=107, Predicted_Value=15972.098412, Expected_Value=15895.000000\n",
      "Every 5th Minute Entry=108, Predicted_Value=15876.887058, Expected_Value=15766.000000\n",
      "Every 5th Minute Entry=109, Predicted_Value=15747.574666, Expected_Value=15662.000000\n",
      "Every 5th Minute Entry=110, Predicted_Value=15643.151627, Expected_Value=15538.000000\n",
      "Every 5th Minute Entry=111, Predicted_Value=15518.611207, Expected_Value=15500.000000\n",
      "Every 5th Minute Entry=112, Predicted_Value=15479.951528, Expected_Value=15359.000000\n",
      "Every 5th Minute Entry=113, Predicted_Value=15338.179215, Expected_Value=15135.000000\n",
      "Every 5th Minute Entry=114, Predicted_Value=15113.310059, Expected_Value=14927.000000\n",
      "Every 5th Minute Entry=115, Predicted_Value=14904.369679, Expected_Value=14952.000000\n",
      "Every 5th Minute Entry=116, Predicted_Value=14928.390430, Expected_Value=14794.000000\n",
      "Every 5th Minute Entry=117, Predicted_Value=14769.409635, Expected_Value=14835.000000\n",
      "Every 5th Minute Entry=118, Predicted_Value=14809.466605, Expected_Value=15268.000000\n",
      "Every 5th Minute Entry=119, Predicted_Value=15241.600541, Expected_Value=15669.000000\n",
      "Every 5th Minute Entry=120, Predicted_Value=15641.847111, Expected_Value=15807.000000\n",
      "Every 5th Minute Entry=121, Predicted_Value=15779.236350, Expected_Value=15878.000000\n",
      "Every 5th Minute Entry=122, Predicted_Value=15849.791006, Expected_Value=15940.000000\n",
      "Every 5th Minute Entry=123, Predicted_Value=15911.525213, Expected_Value=16000.000000\n",
      "Every 5th Minute Entry=124, Predicted_Value=15971.444050, Expected_Value=16000.000000\n",
      "Every 5th Minute Entry=125, Predicted_Value=15971.544758, Expected_Value=16000.000000\n",
      "Every 5th Minute Entry=126, Predicted_Value=15971.817839, Expected_Value=16000.000000\n",
      "Every 5th Minute Entry=127, Predicted_Value=15972.248718, Expected_Value=15834.000000\n",
      "Every 5th Minute Entry=128, Predicted_Value=15806.819725, Expected_Value=15724.000000\n",
      "Every 5th Minute Entry=129, Predicted_Value=15697.512091, Expected_Value=15645.000000\n",
      "Every 5th Minute Entry=130, Predicted_Value=15619.307593, Expected_Value=15404.000000\n",
      "Every 5th Minute Entry=131, Predicted_Value=15379.187349, Expected_Value=15277.000000\n",
      "Every 5th Minute Entry=132, Predicted_Value=15253.133361, Expected_Value=15535.000000\n",
      "Every 5th Minute Entry=133, Predicted_Value=15512.125971, Expected_Value=15767.000000\n",
      "Every 5th Minute Entry=134, Predicted_Value=15745.144201, Expected_Value=15848.000000\n",
      "Every 5th Minute Entry=135, Predicted_Value=15827.164197, Expected_Value=15905.000000\n",
      "Every 5th Minute Entry=136, Predicted_Value=15885.160121, Expected_Value=16000.000000\n",
      "Every 5th Minute Entry=137, Predicted_Value=15981.103371, Expected_Value=16000.000000\n",
      "Every 5th Minute Entry=138, Predicted_Value=15981.964797, Expected_Value=16000.000000\n",
      "Every 5th Minute Entry=139, Predicted_Value=15982.714473, Expected_Value=16000.000000\n",
      "Every 5th Minute Entry=140, Predicted_Value=15983.324792, Expected_Value=16000.000000\n",
      "Every 5th Minute Entry=141, Predicted_Value=15983.771020, Expected_Value=16000.000000\n",
      "Every 5th Minute Entry=142, Predicted_Value=15984.034052, Expected_Value=16000.000000\n",
      "Every 5th Minute Entry=143, Predicted_Value=15984.100749, Expected_Value=16000.000000\n",
      "Every 5th Minute Entry=144, Predicted_Value=15983.964485, Expected_Value=16000.000000\n"
     ]
    }
   ],
   "source": [
    "for i in range(len(Xtest_scaled)):\n",
    "    # making one-step forecast\n",
    "    X, y = Xtest_scaled[i, 0:-1], Xtest_scaled[i, -1]\n",
    "    Y_pred = forecast_lstm(lstm_model, 1, X)\n",
    "    # Replacing the values of test scaled data with the newly predicted value.\n",
    "    Test_Prediction = [Y_pred] + Test_Prediction \n",
    "    if len(Test_Prediction) > Lag_duration+1:\n",
    "        Test_Prediction = Test_Prediction[:-1]\n",
    "    if i+1<len(Xtest_scaled):\n",
    "        if i+1 > Lag_duration+1:\n",
    "            Xtest_scaled[i+1] = Test_Prediction\n",
    "        else:\n",
    "            Xtest_scaled[i+1] = np.concatenate((Test_Prediction, Xtest_scaled[i+1, i+1:]),axis=0)\n",
    "\n",
    "    #Performing the invert scaling and invert differencing and store the forecasted values into an array\n",
    "    Y_pred = invert_scale(scaler, X, Y_pred)\n",
    "    Y_pred = inverse_difference(Raw_val, Y_pred, len(Xtest_scaled)+1-i)\n",
    "    Expected_Val = Raw_val[len(Xtrain) + i + 1]\n",
    "    Pred_plot.append(Y_pred)\n",
    "    Expectation_plot.append(Expected_Val)\n",
    "    if Expected_Val != 0:\n",
    "        Prediction.append(Y_pred)\n",
    "        Expectation.append(Expected_Val)\n",
    "    print('Every 5th Minute Entry=%d, Predicted_Value=%f, Expected_Value=%f' % (i+1, Y_pred, Expected_Val))\n",
    "\n",
    "Expectation = np.array(Expectation)\n",
    "Prediction = np.array(Prediction)"
   ]
  },
  {
   "cell_type": "code",
   "execution_count": 16,
   "metadata": {},
   "outputs": [
    {
     "name": "stdout",
     "output_type": "stream",
     "text": [
      "Root mean squared error: 16.036\n"
     ]
    }
   ],
   "source": [
    "from sklearn.metrics import mean_squared_error\n",
    "print(\"Root mean squared error: %.3f\" % sqrt(mean_squared_error(Expected_Val, Y_pred)))"
   ]
  },
  {
   "cell_type": "code",
   "execution_count": 19,
   "metadata": {},
   "outputs": [
    {
     "data": {
      "image/png": "[encoded data removed]",
      "text/plain": [
       "<Figure size 1440x576 with 1 Axes>"
      ]
     },
     "metadata": {
      "needs_background": "light"
     },
     "output_type": "display_data"
    }
   ],
   "source": [
    "# Plot between the predicted power by the system and the number of hours\n",
    "from matplotlib import pyplot\n",
    "pyplot.figure(figsize=(20,8))\n",
    "pyplot.plot(Expectation_plot, label=\"True values\")\n",
    "pyplot.plot(Pred_plot, label=\"Predicted values\")\n",
    "pyplot.xlabel(\"Number of hours of future prediction/12 units=1 hour\")\n",
    "pyplot.ylabel(\"Power generated by system in (kW)\")\n",
    "pyplot.legend()\n",
    "pyplot.show()"
   ]
  },
  {
   "cell_type": "code",
   "execution_count": 18,
   "metadata": {},
   "outputs": [
    {
     "name": "stdout",
     "output_type": "stream",
     "text": [
      "Calculation of the Mean Absolute Percent Error:  31.56782052744272\n"
     ]
    }
   ],
   "source": [
    "# Calculating Mean Absolute Percent Error - Performance Evaluation\n",
    "from sklearn.metrics import mean_squared_error\n",
    "mape = (np.mean(np.abs((Expectation - Prediction) / Expectation))*100)\n",
    "print(\"Calculation of the Mean Absolute Percent Error: \", mape )"
   ]
  },
  {
   "cell_type": "code",
   "execution_count": null,
   "metadata": {},
   "outputs": [],
   "source": []
  },
  {
   "cell_type": "code",
   "execution_count": null,
   "metadata": {},
   "outputs": [],
   "source": []
  },
  {
   "cell_type": "code",
   "execution_count": null,
   "metadata": {},
   "outputs": [],
   "source": []
  }
 ],
 "metadata": {
  "kernelspec": {
   "display_name": "Python 3",
   "language": "python",
   "name": "python3"
  },
  "language_info": {
   "codemirror_mode": {
    "name": "ipython",
    "version": 3
   },
   "file_extension": ".py",
   "mimetype": "text/x-python",
   "name": "python",
   "nbconvert_exporter": "python",
   "pygments_lexer": "ipython3",
   "version": "3.6.8"
  }
 },
 "nbformat": 4,
 "nbformat_minor": 2
}
