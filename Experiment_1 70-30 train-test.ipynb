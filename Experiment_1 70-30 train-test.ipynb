{
 "cells": [
  {
   "cell_type": "code",
   "execution_count": 1,
   "metadata": {},
   "outputs": [
    {
     "name": "stderr",
     "output_type": "stream",
     "text": [
      "Using TensorFlow backend.\n"
     ]
    }
   ],
   "source": [
    "#Pridicting Power generation because on Wind\n",
    "\n",
    "from math import sqrt\n",
    "from numpy import concatenate\n",
    "from keras.models import Sequential\n",
    "from sklearn.metrics import mean_squared_error\n",
    "from keras.layers import Dense\n",
    "import pandas as pd\n",
    "from datetime import datetime\n",
    "from sklearn.preprocessing import MinMaxScaler\n",
    "from keras.layers import LSTM\n",
    "import glob\n",
    "from datetime import datetime\n",
    "from sklearn.preprocessing import LabelEncoder\n",
    "import numpy as np\n",
    "import seaborn as sns\n",
    "%matplotlib inline\n"
   ]
  },
  {
   "cell_type": "code",
   "execution_count": 2,
   "metadata": {},
   "outputs": [
    {
     "data": {
      "text/html": [
       "<div>\n",
       "<style scoped>\n",
       "    .dataframe tbody tr th:only-of-type {\n",
       "        vertical-align: middle;\n",
       "    }\n",
       "\n",
       "    .dataframe tbody tr th {\n",
       "        vertical-align: top;\n",
       "    }\n",
       "\n",
       "    .dataframe thead th {\n",
       "        text-align: right;\n",
       "    }\n",
       "</style>\n",
       "<table border=\"1\" class=\"dataframe\">\n",
       "  <thead>\n",
       "    <tr style=\"text-align: right;\">\n",
       "      <th></th>\n",
       "      <th>air temp degree</th>\n",
       "      <th>Air density</th>\n",
       "      <th>wind speed at 100m (m/s)</th>\n",
       "      <th>wind direction at 100m (deg)</th>\n",
       "      <th>Power (KW)</th>\n",
       "    </tr>\n",
       "    <tr>\n",
       "      <th>DATETIME</th>\n",
       "      <th></th>\n",
       "      <th></th>\n",
       "      <th></th>\n",
       "      <th></th>\n",
       "      <th></th>\n",
       "    </tr>\n",
       "  </thead>\n",
       "  <tbody>\n",
       "    <tr>\n",
       "      <th>1/1/2007 0:00</th>\n",
       "      <td>2.430</td>\n",
       "      <td>1.223</td>\n",
       "      <td>11.673</td>\n",
       "      <td>244.189</td>\n",
       "      <td>15701</td>\n",
       "    </tr>\n",
       "    <tr>\n",
       "      <th>1/1/2007 0:05</th>\n",
       "      <td>2.387</td>\n",
       "      <td>1.224</td>\n",
       "      <td>11.395</td>\n",
       "      <td>244.755</td>\n",
       "      <td>15498</td>\n",
       "    </tr>\n",
       "    <tr>\n",
       "      <th>1/1/2007 0:10</th>\n",
       "      <td>2.336</td>\n",
       "      <td>1.224</td>\n",
       "      <td>11.468</td>\n",
       "      <td>245.644</td>\n",
       "      <td>15568</td>\n",
       "    </tr>\n",
       "    <tr>\n",
       "      <th>1/1/2007 0:15</th>\n",
       "      <td>2.278</td>\n",
       "      <td>1.224</td>\n",
       "      <td>11.636</td>\n",
       "      <td>246.863</td>\n",
       "      <td>15691</td>\n",
       "    </tr>\n",
       "    <tr>\n",
       "      <th>1/1/2007 0:20</th>\n",
       "      <td>2.192</td>\n",
       "      <td>1.225</td>\n",
       "      <td>11.727</td>\n",
       "      <td>247.287</td>\n",
       "      <td>15719</td>\n",
       "    </tr>\n",
       "  </tbody>\n",
       "</table>\n",
       "</div>"
      ],
      "text/plain": [
       "               air temp degree  Air density  wind speed at 100m (m/s)  \\\n",
       "DATETIME                                                                \n",
       "1/1/2007 0:00            2.430        1.223                    11.673   \n",
       "1/1/2007 0:05            2.387        1.224                    11.395   \n",
       "1/1/2007 0:10            2.336        1.224                    11.468   \n",
       "1/1/2007 0:15            2.278        1.224                    11.636   \n",
       "1/1/2007 0:20            2.192        1.225                    11.727   \n",
       "\n",
       "               wind direction at 100m (deg)  Power (KW)  \n",
       "DATETIME                                                 \n",
       "1/1/2007 0:00                       244.189       15701  \n",
       "1/1/2007 0:05                       244.755       15498  \n",
       "1/1/2007 0:10                       245.644       15568  \n",
       "1/1/2007 0:15                       246.863       15691  \n",
       "1/1/2007 0:20                       247.287       15719  "
      ]
     },
     "execution_count": 2,
     "metadata": {},
     "output_type": "execute_result"
    }
   ],
   "source": [
    "#Loading the dataset \n",
    "data_frame = pd.read_csv('C:/Users/gurun/Desktop/ProjectCPS/DPPdataset.csv',index_col=\"DATETIME\")\n",
    "data_frame.head()"
   ]
  },
  {
   "cell_type": "code",
   "execution_count": 3,
   "metadata": {},
   "outputs": [],
   "source": [
    "#Cleaning the data set\n",
    "data_frame['Power (KW)'].replace(0, np.nan, inplace=True)\n",
    "data_frame['Power (KW)'].fillna(method='ffill', inplace=True)"
   ]
  },
  {
   "cell_type": "code",
   "execution_count": 4,
   "metadata": {},
   "outputs": [],
   "source": [
    "#Dividing data set into a train-test split 70-30\n",
    "data_set = data_frame.values\n",
    "train_size = int(len(data_set) * 0.70)\n",
    "test_size = len(data_set) - train_size\n",
    "train, test = data_set[0:train_size,:], data_set[train_size:len(data_set),:]"
   ]
  },
  {
   "cell_type": "code",
   "execution_count": 5,
   "metadata": {},
   "outputs": [
    {
     "name": "stdout",
     "output_type": "stream",
     "text": [
      "The length of the splitted data set - Train set: 73584\n",
      "The length of the splitted data set - Test set: 31536\n"
     ]
    }
   ],
   "source": [
    "print(\"The length of the splitted data set - Train set:\", len(train))\n",
    "print(\"The length of the splitted data set - Test set:\", len(test))"
   ]
  },
  {
   "cell_type": "code",
   "execution_count": 6,
   "metadata": {},
   "outputs": [],
   "source": [
    "#Helper to create time frames with look backs\n",
    "def create_dataset(data_set, look_back=1):\n",
    "    X_data, Y_data = [], []\n",
    "    \n",
    "    for i in range(len(data_set) - look_back):\n",
    "        a = data_set[i:(i + look_back), 0]\n",
    "        X_data.append(a)\n",
    "        Y_data.append(data_set[i + look_back, 0])\n",
    "    print(len(Y_data))\n",
    "    \n",
    "    return np.array(X_data), np.array(Y_data)"
   ]
  },
  {
   "cell_type": "code",
   "execution_count": 7,
   "metadata": {},
   "outputs": [
    {
     "name": "stdout",
     "output_type": "stream",
     "text": [
      "73576\n",
      "31528\n"
     ]
    }
   ],
   "source": [
    "#Creating time frames with look backs and rehsaping the data for the requirement of the model\n",
    "look_back = 8\n",
    "XTrain, YTrain = create_dataset(train, look_back)\n",
    "XTrain = np.reshape(XTrain, (XTrain.shape[0], 1, XTrain.shape[1]))\n",
    "XTest, YTest = create_dataset(test, look_back)\n",
    "XTest = np.reshape(XTest, (XTest.shape[0], 1, XTest.shape[1]))"
   ]
  },
  {
   "cell_type": "code",
   "execution_count": 8,
   "metadata": {},
   "outputs": [
    {
     "name": "stdout",
     "output_type": "stream",
     "text": [
      "The time frame was taken with the number of look backs = 8\n",
      "Rehsaping the data for the requirement of the model Train set: 73576\n",
      "Rehsaping the data for the requirement of the model Test set: 31528\n"
     ]
    }
   ],
   "source": [
    "print(\"The time frame was taken with the number of look backs = 8\")\n",
    "print(\"Rehsaping the data for the requirement of the model Train set:\", len(XTrain))\n",
    "print(\"Rehsaping the data for the requirement of the model Test set:\", len(XTest))"
   ]
  },
  {
   "cell_type": "code",
   "execution_count": 9,
   "metadata": {},
   "outputs": [],
   "source": [
    "#Fitting the data in LSTM Deep Learning model\n",
    "model = Sequential()\n",
    "model.add(LSTM(100, input_shape=(XTrain.shape[1], XTrain.shape[2])))\n",
    "model.add(Dense(1))\n",
    "model.compile(loss='mae', optimizer='adam')\n",
    "history = model.fit(XTrain, YTrain, epochs=300, batch_size=100, validation_data=(XTest, YTest), verbose=0, shuffle=False)"
   ]
  },
  {
   "cell_type": "code",
   "execution_count": 10,
   "metadata": {},
   "outputs": [],
   "source": [
    "#Predicting test split of 30% of the 1 year data\n",
    "Y_pred = model.predict(XTest)"
   ]
  },
  {
   "cell_type": "code",
   "execution_count": 11,
   "metadata": {},
   "outputs": [
    {
     "data": {
      "text/plain": [
       "<matplotlib.legend.Legend at 0x264b7576c88>"
      ]
     },
     "execution_count": 11,
     "metadata": {},
     "output_type": "execute_result"
    },
    {
     "data": {
      "image/png": "[encoded data removed]",
      "text/plain": [
       "<Figure size 1440x576 with 1 Axes>"
      ]
     },
     "metadata": {
      "needs_background": "light"
     },
     "output_type": "display_data"
    }
   ],
   "source": [
    "#Plotting the first 1000 entries to see prediction\n",
    "from matplotlib import pyplot\n",
    "pyplot.figure(figsize=(20,8))\n",
    "pyplot.plot(Y_pred[:1000], label= 'Predicted values using LSTM')\n",
    "pyplot.plot(YTest[:1000], label= 'True values from the Data set')\n",
    "pyplot.legend()"
   ]
  },
  {
   "cell_type": "code",
   "execution_count": 16,
   "metadata": {},
   "outputs": [
    {
     "name": "stdout",
     "output_type": "stream",
     "text": [
      "Variance : 1.000\n"
     ]
    }
   ],
   "source": [
    "from sklearn.metrics import r2_score\n",
    "print('Variance : %.3f' % r2_score(YTest, Y_pred))"
   ]
  },
  {
   "cell_type": "code",
   "execution_count": 13,
   "metadata": {},
   "outputs": [
    {
     "name": "stdout",
     "output_type": "stream",
     "text": [
      "Mean squared error: 0.031\n",
      "Root mean squared error: 0.175\n"
     ]
    }
   ],
   "source": [
    "from sklearn.metrics import mean_squared_error\n",
    "print(\"Mean squared error: %.3f\" % mean_squared_error(YTest, Y_pred))\n",
    "print(\"Root mean squared error: %.3f\" % sqrt(mean_squared_error(YTest, Y_pred)))"
   ]
  },
  {
   "cell_type": "code",
   "execution_count": null,
   "metadata": {},
   "outputs": [],
   "source": []
  },
  {
   "cell_type": "code",
   "execution_count": null,
   "metadata": {},
   "outputs": [],
   "source": []
  },
  {
   "cell_type": "code",
   "execution_count": null,
   "metadata": {},
   "outputs": [],
   "source": []
  },
  {
   "cell_type": "code",
   "execution_count": null,
   "metadata": {},
   "outputs": [],
   "source": []
  },
  {
   "cell_type": "code",
   "execution_count": null,
   "metadata": {},
   "outputs": [],
   "source": []
  }
 ],
 "metadata": {
  "kernelspec": {
   "display_name": "Python 3",
   "language": "python",
   "name": "python3"
  },
  "language_info": {
   "codemirror_mode": {
    "name": "ipython",
    "version": 3
   },
   "file_extension": ".py",
   "mimetype": "text/x-python",
   "name": "python",
   "nbconvert_exporter": "python",
   "pygments_lexer": "ipython3",
   "version": "3.7.1"
  }
 },
 "nbformat": 4,
 "nbformat_minor": 2
}
